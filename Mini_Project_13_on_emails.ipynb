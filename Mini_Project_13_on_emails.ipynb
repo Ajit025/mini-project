{
 "cells": [
  {
   "cell_type": "code",
   "execution_count": 1,
   "id": "7b006025",
   "metadata": {},
   "outputs": [],
   "source": [
    "import pandas as pd\n",
    "import numpy as np\n",
    "from sklearn.model_selection import train_test_split\n",
    "from sklearn.naive_bayes import MultinomialNB\n",
    "from sklearn.svm import SVC\n",
    "from sklearn.tree import DecisionTreeClassifier\n",
    "from sklearn.ensemble import RandomForestClassifier\n",
    "from sklearn.ensemble import BaggingClassifier\n",
    "from sklearn.metrics import accuracy_score, confusion_matrix, classification_report"
   ]
  },
  {
   "cell_type": "code",
   "execution_count": 2,
   "id": "1dd0dc6d",
   "metadata": {},
   "outputs": [
    {
     "name": "stdout",
     "output_type": "stream",
     "text": [
      "       Email No.  the  to  ect  and  for  of    a  you  hou  ...  connevey  \\\n",
      "0        Email 1    0   0    1    0    0   0    2    0    0  ...         0   \n",
      "1        Email 2    8  13   24    6    6   2  102    1   27  ...         0   \n",
      "2        Email 3    0   0    1    0    0   0    8    0    0  ...         0   \n",
      "3        Email 4    0   5   22    0    5   1   51    2   10  ...         0   \n",
      "4        Email 5    7   6   17    1    5   2   57    0    9  ...         0   \n",
      "...          ...  ...  ..  ...  ...  ...  ..  ...  ...  ...  ...       ...   \n",
      "5167  Email 5168    2   2    2    3    0   0   32    0    0  ...         0   \n",
      "5168  Email 5169   35  27   11    2    6   5  151    4    3  ...         0   \n",
      "5169  Email 5170    0   0    1    1    0   0   11    0    0  ...         0   \n",
      "5170  Email 5171    2   7    1    0    2   1   28    2    0  ...         0   \n",
      "5171  Email 5172   22  24    5    1    6   5  148    8    2  ...         0   \n",
      "\n",
      "      jay  valued  lay  infrastructure  military  allowing  ff  dry  \\\n",
      "0       0       0    0               0         0         0   0    0   \n",
      "1       0       0    0               0         0         0   1    0   \n",
      "2       0       0    0               0         0         0   0    0   \n",
      "3       0       0    0               0         0         0   0    0   \n",
      "4       0       0    0               0         0         0   1    0   \n",
      "...   ...     ...  ...             ...       ...       ...  ..  ...   \n",
      "5167    0       0    0               0         0         0   0    0   \n",
      "5168    0       0    0               0         0         0   1    0   \n",
      "5169    0       0    0               0         0         0   0    0   \n",
      "5170    0       0    0               0         0         0   1    0   \n",
      "5171    0       0    0               0         0         0   0    0   \n",
      "\n",
      "      Prediction  \n",
      "0              0  \n",
      "1              0  \n",
      "2              0  \n",
      "3              0  \n",
      "4              0  \n",
      "...          ...  \n",
      "5167           0  \n",
      "5168           0  \n",
      "5169           1  \n",
      "5170           1  \n",
      "5171           0  \n",
      "\n",
      "[5172 rows x 3002 columns]\n"
     ]
    }
   ],
   "source": [
    "input=pd.read_csv(\"emails.csv.zip\")\n",
    "print(input)"
   ]
  },
  {
   "cell_type": "code",
   "execution_count": 3,
   "id": "106f87bc",
   "metadata": {},
   "outputs": [
    {
     "name": "stdout",
     "output_type": "stream",
     "text": [
      "Email No.     0\n",
      "the           0\n",
      "to            0\n",
      "ect           0\n",
      "and           0\n",
      "             ..\n",
      "military      0\n",
      "allowing      0\n",
      "ff            0\n",
      "dry           0\n",
      "Prediction    0\n",
      "Length: 3002, dtype: int64\n"
     ]
    }
   ],
   "source": [
    "print(input.isnull().sum())"
   ]
  },
  {
   "cell_type": "code",
   "execution_count": 4,
   "id": "1442398c",
   "metadata": {},
   "outputs": [],
   "source": [
    "X = input.iloc[:,1:3001]\n",
    "Y = input.iloc[:,-1].values\n",
    "train_x,test_x,train_y,test_y = train_test_split(X,Y,test_size = 0.25)"
   ]
  },
  {
   "cell_type": "code",
   "execution_count": 5,
   "id": "a3904cd7",
   "metadata": {},
   "outputs": [
    {
     "name": "stdout",
     "output_type": "stream",
     "text": [
      "Accuracy Score for Naive bayes :  0.9520494972931168\n"
     ]
    }
   ],
   "source": [
    "mnb =  MultinomialNB(alpha = 0.01)\n",
    "mnb.fit(train_x, train_y)\n",
    "y_pred = mnb.predict(test_x)\n",
    "print(\"Accuracy Score for Naive bayes : \", accuracy_score(y_pred,test_y))"
   ]
  },
  {
   "cell_type": "code",
   "execution_count": 6,
   "id": "d70879a4",
   "metadata": {},
   "outputs": [
    {
     "name": "stdout",
     "output_type": "stream",
     "text": [
      "Accuracy Score for SVC :  0.9559164733178654\n"
     ]
    }
   ],
   "source": [
    "svc = SVC(C=1.0,kernel='linear', gamma='auto') \n",
    "svc.fit(train_x,train_y)\n",
    "y_pred2 = svc.predict(test_x)\n",
    "print(\"Accuracy Score for SVC : \", accuracy_score(y_pred2,test_y))"
   ]
  },
  {
   "cell_type": "code",
   "execution_count": 7,
   "id": "adb586f2",
   "metadata": {},
   "outputs": [
    {
     "name": "stdout",
     "output_type": "stream",
     "text": [
      "Accuracy score of Decision Tree: 0.9234338747099768\n"
     ]
    }
   ],
   "source": [
    "dt = DecisionTreeClassifier(max_features=1.0,splitter='random', max_depth=217)\n",
    "dt.fit(train_x, train_y)\n",
    "y_pred4 = dt.predict(test_x)\n",
    "print('Accuracy score of Decision Tree:', accuracy_score(test_y, y_pred4))"
   ]
  },
  {
   "cell_type": "code",
   "execution_count": 8,
   "id": "5cdf26e4",
   "metadata": {},
   "outputs": [
    {
     "name": "stdout",
     "output_type": "stream",
     "text": [
      "Accuracy Score of Random Forest Classifier :  0.9775715390564579\n"
     ]
    }
   ],
   "source": [
    "rfc = RandomForestClassifier(n_estimators=200,criterion='log_loss',max_samples=1.0)\n",
    "rfc.fit(train_x,train_y)\n",
    "y_pred3 = rfc.predict(test_x)\n",
    "print(\"Accuracy Score of Random Forest Classifier : \", accuracy_score(y_pred3,test_y))\n"
   ]
  },
  {
   "cell_type": "code",
   "execution_count": 9,
   "id": "b9d4e5b0",
   "metadata": {},
   "outputs": [
    {
     "name": "stdout",
     "output_type": "stream",
     "text": [
      "AS - Bagged Naive 0.9528228924980665\n"
     ]
    }
   ],
   "source": [
    "from sklearn.ensemble import BaggingClassifier\n",
    "Naivebag = BaggingClassifier(mnb, n_estimators=200, max_samples=1.0,\n",
    "random_state=2)\n",
    "Naivebag.fit(train_x, train_y)\n",
    "bag1 = Naivebag.predict(test_x)\n",
    "print(\"AS - Bagged Naive\",accuracy_score(test_y, bag1))"
   ]
  },
  {
   "cell_type": "code",
   "execution_count": 10,
   "id": "223ff325",
   "metadata": {},
   "outputs": [
    {
     "name": "stdout",
     "output_type": "stream",
     "text": [
      "AS - Bagged SVM 0.9590100541376644\n"
     ]
    }
   ],
   "source": [
    "Svmbag = BaggingClassifier(svc, n_estimators=200, max_samples=1.0,\n",
    "random_state=1)\n",
    "Svmbag.fit(train_x, train_y)\n",
    "bag2 = Svmbag.predict(test_x)\n",
    "print(\"AS - Bagged SVM\",accuracy_score(test_y, bag2))"
   ]
  },
  {
   "cell_type": "code",
   "execution_count": 11,
   "id": "52ac1786",
   "metadata": {},
   "outputs": [
    {
     "name": "stdout",
     "output_type": "stream",
     "text": [
      "AS - Bagged DecisionTree 0.9675174013921114\n"
     ]
    }
   ],
   "source": [
    "Decisionbag = BaggingClassifier(dt, n_estimators=100, max_samples=1.0,\n",
    "random_state=1)\n",
    "Decisionbag.fit(train_x, train_y)\n",
    "bag3 = Decisionbag.predict(test_x)\n",
    "print(\"AS - Bagged DecisionTree\",accuracy_score(test_y, bag3))"
   ]
  },
  {
   "cell_type": "code",
   "execution_count": 12,
   "id": "3c72510c",
   "metadata": {},
   "outputs": [
    {
     "name": "stdout",
     "output_type": "stream",
     "text": [
      "AS - Bagged Random Forest 0.9791183294663574\n"
     ]
    }
   ],
   "source": [
    "RandomBag = BaggingClassifier(rfc, n_estimators=200, max_samples=1.0,\n",
    "random_state=1)\n",
    "RandomBag.fit(train_x, train_y)\n",
    "bag4 = RandomBag.predict(test_x)\n",
    "print(\"AS - Bagged Random Forest\",accuracy_score(test_y, bag4))"
   ]
  },
  {
   "cell_type": "markdown",
   "id": "83402a76",
   "metadata": {},
   "source": []
  }
 ],
 "metadata": {
  "kernelspec": {
   "display_name": "Python 3 (ipykernel)",
   "language": "python",
   "name": "python3"
  },
  "language_info": {
   "codemirror_mode": {
    "name": "ipython",
    "version": 3
   },
   "file_extension": ".py",
   "mimetype": "text/x-python",
   "name": "python",
   "nbconvert_exporter": "python",
   "pygments_lexer": "ipython3",
   "version": "3.9.9"
  }
 },
 "nbformat": 4,
 "nbformat_minor": 5
}
